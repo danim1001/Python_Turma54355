{
 "cells": [
  {
   "cell_type": "code",
   "execution_count": 13,
   "metadata": {},
   "outputs": [
    {
     "name": "stdout",
     "output_type": "stream",
     "text": [
      "Collecting plyer\n",
      "  Downloading plyer-2.1.0-py2.py3-none-any.whl (142 kB)\n",
      "     ---------------------------------------- 0.0/142.3 kB ? eta -:--:--\n",
      "     ---------------------------------------- 0.0/142.3 kB ? eta -:--:--\n",
      "     -- ------------------------------------- 10.2/142.3 kB ? eta -:--:--\n",
      "     ------- ----------------------------- 30.7/142.3 kB 330.3 kB/s eta 0:00:01\n",
      "     ---------- -------------------------- 41.0/142.3 kB 281.8 kB/s eta 0:00:01\n",
      "     --------------------------------- -- 133.1/142.3 kB 787.7 kB/s eta 0:00:01\n",
      "     ------------------------------------ 142.3/142.3 kB 706.0 kB/s eta 0:00:00\n",
      "Installing collected packages: plyer\n",
      "Successfully installed plyer-2.1.0\n",
      "Note: you may need to restart the kernel to use updated packages.\n"
     ]
    },
    {
     "name": "stderr",
     "output_type": "stream",
     "text": [
      "\n",
      "[notice] A new release of pip is available: 23.2.1 -> 23.3.1\n",
      "[notice] To update, run: python.exe -m pip install --upgrade pip\n"
     ]
    }
   ],
   "source": [
    "pip install plyer\n"
   ]
  },
  {
   "cell_type": "code",
   "execution_count": 33,
   "metadata": {},
   "outputs": [],
   "source": [
    "from plyer import notification\n",
    "notification.notify(\n",
    "    title='Titulo da Notificação', \n",
    "    message = 'Mensagem da Notificação',\n",
    "    app_name='Nome do Aplicativo',\n",
    "    timeout=10\n",
    ")"
   ]
  },
  {
   "cell_type": "code",
   "execution_count": 4,
   "metadata": {},
   "outputs": [],
   "source": [
    "from plyer import notification #importando a biblioteca notificação\n",
    "from datetime import datetime #importando a biblioteca de data\n",
    "\n",
    "def alerta(nivel,base,etapa):\n",
    "    nivel_titulo = {1:\"Alerta Baixo\", 2:\"Alerta Medio\",3:\"Alerta Alto\"} #criando um dicionario com os tipos de alerta\n",
    "    titulo = nivel_titulo.get(nivel) #definir o titulo de acordo com o nivel do dicionario\n",
    "    data = str(datetime.now()) #data em formato string\n",
    "    mensagem = f\"Falha no carregamento da base {base} na etapa {etapa} \\n {data}\" #definir mensagem do alerta\n",
    "    \n",
    "    notification.notify(\n",
    "    title= titulo, \n",
    "    message = mensagem,\n",
    "    app_name='Nome do Aplicativo',\n",
    "    timeout=10\n",
    ") #notificação\n",
    "\n",
    "alerta (2, \"CLIENTES\", \"EXTRAÇÃO\")"
   ]
  }
 ],
 "metadata": {
  "kernelspec": {
   "display_name": "Python 3",
   "language": "python",
   "name": "python3"
  },
  "language_info": {
   "codemirror_mode": {
    "name": "ipython",
    "version": 3
   },
   "file_extension": ".py",
   "mimetype": "text/x-python",
   "name": "python",
   "nbconvert_exporter": "python",
   "pygments_lexer": "ipython3",
   "version": "3.12.0"
  }
 },
 "nbformat": 4,
 "nbformat_minor": 2
}
