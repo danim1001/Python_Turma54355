{
 "cells": [
  {
   "cell_type": "code",
   "execution_count": 2,
   "metadata": {},
   "outputs": [
    {
     "name": "stdout",
     "output_type": "stream",
     "text": [
      "Hello World\n"
     ]
    }
   ],
   "source": [
    "print(\"Hello World\")"
   ]
  },
  {
   "cell_type": "code",
   "execution_count": 11,
   "metadata": {},
   "outputs": [
    {
     "name": "stdout",
     "output_type": "stream",
     "text": [
      "Seu novo saldo é 940.6\n"
     ]
    }
   ],
   "source": [
    "# Crie uma variável chamada saldo e atribua o valor de 950.6\n",
    "saldo = 950.60\n",
    "#Pergunte ao usuário quanto ele deseja sacar\n",
    "#Armazene a resposta em uma vari[avel chamada saque\n",
    "saque = float(input (\"Quanto dinheir você deseja sacar?\"))\n",
    "#Subtraia o valor do saque do saldo\n",
    "novo_saldo = saldo - saque\n",
    "#imprima a mensagem seu novo saldo\n",
    "print(\"Seu novo saldo é\", novo_saldo)"
   ]
  },
  {
   "cell_type": "code",
   "execution_count": 18,
   "metadata": {},
   "outputs": [
    {
     "name": "stdout",
     "output_type": "stream",
     "text": [
      "['maça', 'banana', 'kiwi', 'mamão', 'carambola', 'pitaya']\n"
     ]
    }
   ],
   "source": [
    "#Crie uma lista de 5 frutas\n",
    "lista = [\"maça\",\"banana\",\"kiwi\",\"mamão\",\"carambola\"]\n",
    "#Permita que o usuário digite o nome de uma fruta\n",
    "fruta = str(input(\"Digite o nome de uma fruta\"))\n",
    "#se for uma fruta repetida da lista desconsiderar\n",
    "if fruta in lista:\n",
    "    print(fruta, \"já consta na lista\")\n",
    "else:\n",
    "    lista.append(fruta)\n",
    "    print(lista)\n"
   ]
  },
  {
   "cell_type": "code",
   "execution_count": 30,
   "metadata": {},
   "outputs": [
    {
     "name": "stdout",
     "output_type": "stream",
     "text": [
      "*l*, m** n*m* * d*n**l* * m*r* *m s** p**l* p*rt* d* *v*n*d* c*p*c*\n"
     ]
    }
   ],
   "source": [
    "#pedir para o usuário digitar uma frase\n",
    "frase = str(input(\"Digite uma frase\"))\n",
    "#Substituir todas as vogais por *\n",
    "frase = frase.lower() #converter tudo para minusculo\n",
    "nova_frase = frase.replace(\"a\",\"*\").replace(\"á\",\"*\").replace(\"ã\",\"*\").replace(\"à\",\"*\").replace(\"e\",\"*\").replace(\"é\",\"*\").replace(\"ê\",\"*\").replace(\"i\",\"*\").replace(\"í\",\"*\").replace(\"o\",\"*\").replace(\"ó\",\"*\").replace(\"ô\",\"*\").replace(\"u\",\"*\").replace(\"ú\",\"*\")\n",
    "print(nova_frase)\n"
   ]
  },
  {
   "cell_type": "code",
   "execution_count": 34,
   "metadata": {},
   "outputs": [
    {
     "name": "stdout",
     "output_type": "stream",
     "text": [
      "24.034609838166958\n"
     ]
    }
   ],
   "source": [
    "#Solicite ao usuário o peso em Kg\n",
    "peso = float(input(\"Insira o seu peso em Kilogramas\"))\n",
    "#Solicite ao usuário a altura em metros\n",
    "altura = float(input(\"Insira o sua altura em metros\"))\n",
    "#Calcular o IMC de uma pessoa\n",
    "imc = peso / (altura*altura)\n",
    "#Imprimir o IMC da pessoa na tela\n",
    "print(imc)"
   ]
  },
  {
   "cell_type": "code",
   "execution_count": 36,
   "metadata": {},
   "outputs": [
    {
     "name": "stdout",
     "output_type": "stream",
     "text": [
      "[1, 2, 3, 4, 5]\n"
     ]
    }
   ],
   "source": [
    "#Crie uma lista vazia\n",
    "lista = []\n",
    "#Permita que o usuário digite 5 números inteiros\n",
    "numero1 = int(input(\"Digite 1o número inteiro\"))\n",
    "numero2 = int(input(\"Digite 2o número inteiro\"))\n",
    "numero3 = int(input(\"Digite 3o número inteiro\"))\n",
    "numero4 = int(input(\"Digite 4o número inteiro\"))\n",
    "numero5 = int(input(\"Digite 5o número inteiro\"))\n",
    "#inserir os números na lista\n",
    "lista.append(numero1)\n",
    "lista.append(numero2)\n",
    "lista.append(numero3)\n",
    "lista.append(numero4)\n",
    "lista.append(numero5)\n",
    "print(lista)\n"
   ]
  },
  {
   "cell_type": "code",
   "execution_count": 37,
   "metadata": {},
   "outputs": [
    {
     "name": "stdout",
     "output_type": "stream",
     "text": [
      "daniela, monica, vanessa\n"
     ]
    }
   ],
   "source": [
    "\n",
    "#Peça para o usuário digitar uma lista de nomes separados por vírgula\n",
    "nomes = str(input(\"Digite uma lista de nomes seprados por vírgula\"))\n",
    "#Transforme essa lista em lista de string\n",
    "lista=str(nomes)\n",
    "print(lista)\n"
   ]
  }
 ],
 "metadata": {
  "kernelspec": {
   "display_name": "Python 3",
   "language": "python",
   "name": "python3"
  },
  "language_info": {
   "codemirror_mode": {
    "name": "ipython",
    "version": 3
   },
   "file_extension": ".py",
   "mimetype": "text/x-python",
   "name": "python",
   "nbconvert_exporter": "python",
   "pygments_lexer": "ipython3",
   "version": "3.9.0"
  }
 },
 "nbformat": 4,
 "nbformat_minor": 2
}
